{
 "cells": [
  {
   "cell_type": "code",
   "execution_count": null,
   "metadata": {},
   "outputs": [],
   "source": [
    "import matplotlib as plt\n",
    "import math"
   ]
  },
  {
   "cell_type": "code",
   "execution_count": null,
   "metadata": {},
   "outputs": [],
   "source": [
    "# parameter declarations\n",
    "wavelength = 1030 * pow(10, -9)\n",
    "frequency = 2.9106063883 * pow(10,14)\n",
    "c = 299792458\n",
    "electron_charge = 1.602176634 * pow(10, -19)\n",
    "electron_mass = 9.1093837139 * pow (10, -31) #kilogram\n",
    "reduced_planck = 6.582119569 * pow (10, -16) #electron volt\n",
    "# band_gap = 9.4 to 9.9 google says 8.96\n",
    "band_gap = 9.4\n",
    "pi = 3.14159265358979323846264338327950\n",
    "# 300 fs laser pulse\n",
    "e_amplitude = 1 # temp value\n",
    "eosc = ((electron_charge**2)*(energy**2))/(4*electron_mass*(frequency**2))\n",
    "nph = band_gap/(reduced_planck*frequency)\n",
    "boltzmann_constant = 1.380649*pow(10,-23) # J/K\n",
    "wmpi = (frequency*(nph**1.5))*((eosc/(2*band_gap))**nph)\n",
    "wimp = (eosc/band_gap)*((frequency**2*p_exchange)/(p_exchange**2+frequency**2))\n",
    "a_bohr = (reduced_planck**2)/(electron_mass*(electron_charge**2))"
   ]
  },
  {
   "cell_type": "code",
   "execution_count": 1,
   "metadata": {},
   "outputs": [],
   "source": [
    "#temporarily assuming a 1:1 electron to free atom ionization ratio\n",
    "free_atom = 8.67 * pow(10,10)\n",
    "def electron_density(free_electron, time):\n",
    "    na_term = free_atom*wmpi/wimp\n",
    "    one_minus = 1-math.exp(-1*wimp*time)\n",
    "    out = (free_electron + na_term*one_minus)*(math.exp(wimp*t))\n",
    "    free_atom = free_atom - out\n",
    "    return out\n",
    "\n",
    "def cw(free_electron):\n",
    "     return 0.31*pi*a_bohr*(free_electron**1/3)\n",
    "\n",
    "#p_exchange = (3/2)*cw(free_electron_not=0)*((boltzmann_constant*293.15)/reduced_planck) #293.15 is assumed room temperature"
   ]
  },
  {
   "cell_type": "code",
   "execution_count": null,
   "metadata": {},
   "outputs": [],
   "source": [
    "free_electron_not = 0\n",
    "for t in range(10):\n",
    "    time = t * pow(10, -9)\n",
    "    p_exchange = (3/2)*cw(free_electron_not)*((boltzmann_constant*293.15)/reduced_planck) #293.15 is assumed room temperature\n",
    "    wimp = (eosc/band_gap)*((frequency**2*p_exchange)/(p_exchange**2+frequency**2))\n",
    "    electron_count = electron_density(free_electron_not, time)\n",
    "    free_electron_not = electron_count"
   ]
  }
 ],
 "metadata": {
  "kernelspec": {
   "display_name": "Python 3",
   "language": "python",
   "name": "python3"
  },
  "language_info": {
   "codemirror_mode": {
    "name": "ipython",
    "version": 3
   },
   "file_extension": ".py",
   "mimetype": "text/x-python",
   "name": "python",
   "nbconvert_exporter": "python",
   "pygments_lexer": "ipython3",
   "version": "3.8.2"
  }
 },
 "nbformat": 4,
 "nbformat_minor": 2
}
