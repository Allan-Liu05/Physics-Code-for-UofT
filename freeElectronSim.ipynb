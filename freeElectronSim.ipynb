{
 "cells": [
  {
   "cell_type": "code",
   "execution_count": null,
   "metadata": {},
   "outputs": [],
   "source": [
    "import matplotlib.pyplot as plt\n",
    "import math"
   ]
  },
  {
   "cell_type": "code",
   "execution_count": null,
   "metadata": {},
   "outputs": [],
   "source": [
    "# parameter declarations\n",
    "wavelength = 1030e-9\n",
    "frequency = 2.9106063883e14\n",
    "c = 299792458\n",
    "electron_charge = 1.602176634e-19\n",
    "electron_mass = 9.1093837139e-31 #kilogram\n",
    "reduced_planck = 1.054571817e-34 #electron volt\n",
    "# band_gap = 9.4 to 9.9 google says 8.96\n",
    "band_gap = 1.506e-18 #converted from eV to J\n",
    "pi = 3.14159265358979323846264338327950\n",
    "# 300 fs laser pulse\n",
    "e_amplitude = 2.74e10 # V/m\n",
    "eosc = ((electron_charge**2)*(e_amplitude**2))/(4*electron_mass*(frequency**2))\n",
    "nph = band_gap/(reduced_planck*frequency)\n",
    "boltzmann_constant = 1.380649e-23 # J/K\n",
    "a_bohr = (reduced_planck**2)/(electron_mass*(electron_charge**2))"
   ]
  },
  {
   "cell_type": "code",
   "execution_count": 1,
   "metadata": {},
   "outputs": [],
   "source": [
    "\n",
    "#temporarily assuming a 1:1 electron to free atom ionization ratio\n",
    "def electron_density(free_electron, free_atom_current, time):\n",
    "    \n",
    "    na_term = free_atom*wmpi/wimp\n",
    "    one_minus = 1-math.exp(-1*wimp*time)\n",
    "    free_electron = (free_electron + na_term*one_minus)*(math.exp(wimp*t))\n",
    "    free_atom_current = free_atom - free_electron\n",
    "    return free_electron, free_atom_current\n",
    "\n",
    "def cw(free_electron):\n",
    "     return 0.31*pi*a_bohr*(free_electron**1/3)"
   ]
  },
  {
   "cell_type": "code",
   "execution_count": 107,
   "metadata": {},
   "outputs": [],
   "source": [
    "free_electron_not = 1e-20\n",
    "free_atom = 8.67e10\n",
    "wmpi = (frequency*(nph**1.5))*((eosc/(2*band_gap))**nph)\n",
    "rho = []\n",
    "for t in range(741):\n",
    "    dt = t*pow(10,-17)\n",
    "    p_exchange = (3/2)*cw(free_electron_not)*((boltzmann_constant*293.15)/reduced_planck) #assuming 293.15 kelvin lattice temperature\n",
    "    wimp = (eosc/band_gap)*((frequency**2*p_exchange)/(p_exchange**2+frequency**2))\n",
    "    free_electron_not, free_atom = electron_density(free_electron_not,free_atom,dt)\n",
    "    rho.append(free_electron_not)\n",
    "xs = [x for x in range(len(rho))]\n",
    "plt.plot(xs, rho)\n",
    "plt.show()\n",
    "plt.close()"
   ]
  }
 ],
 "metadata": {
  "kernelspec": {
   "display_name": "Python 3",
   "language": "python",
   "name": "python3"
  },
  "language_info": {
   "codemirror_mode": {
    "name": "ipython",
    "version": 3
   },
   "file_extension": ".py",
   "mimetype": "text/x-python",
   "name": "python",
   "nbconvert_exporter": "python",
   "pygments_lexer": "ipython3",
   "version": "3.8.2"
  }
 },
 "nbformat": 4,
 "nbformat_minor": 2
}
